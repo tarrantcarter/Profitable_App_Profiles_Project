{
  "nbformat": 4,
  "nbformat_minor": 0,
  "metadata": {
    "kernelspec": {
      "display_name": "Python 3",
      "language": "python",
      "name": "python3"
    },
    "language_info": {
      "codemirror_mode": {
        "name": "ipython",
        "version": 3
      },
      "file_extension": ".py",
      "mimetype": "text/x-python",
      "name": "python",
      "nbconvert_exporter": "python",
      "pygments_lexer": "ipython3",
      "version": "3.7.6"
    },
    "colab": {
      "name": "Profitable App Profiles for the App Store and Google Play Markets.ipynb",
      "provenance": [],
      "include_colab_link": true
    }
  },
  "cells": [
    {
      "cell_type": "markdown",
      "metadata": {
        "id": "view-in-github",
        "colab_type": "text"
      },
      "source": [
        "<a href=\"https://colab.research.google.com/github/tarrantcarter/Data-Science-Python-Basics/blob/master/Profitable_App_Profiles_for_the_App_Store_and_Google_Play_Markets.ipynb\" target=\"_parent\"><img src=\"https://colab.research.google.com/assets/colab-badge.svg\" alt=\"Open In Colab\"/></a>"
      ]
    },
    {
      "cell_type": "markdown",
      "metadata": {
        "collapsed": true,
        "id": "KZZdBX8nJgwG",
        "colab_type": "text"
      },
      "source": [
        "# Profitable App Profiles for the App Store and Google Play Markets\n",
        "\n",
        "Our aim in this project is to find mobile app profiles that are profitable for the App Store and Google Play markets. We're working as data analysts for a company that builds Android and iOS mobile apps, and our job is to enable our team of developers to make data-driven decisions with respect to the kind of apps they build.\n",
        "\n",
        "At our company, we only build apps that are free to download and install, and our main source of revenue consists of in-app ads. This means that our revenue for any given app is mostly influenced by the number of users that use our app. Our goal for this project is to analyze data to help our developers understand what kinds of apps are likely to attract more users."
      ]
    },
    {
      "cell_type": "markdown",
      "metadata": {
        "id": "VDTJXanqJgwK",
        "colab_type": "text"
      },
      "source": [
        "# Opening and Exploring the Data\n",
        "\n",
        "As of September 2018, there were approximately 2 million iOS apps available on the App Store, and 2.1 million Android apps on Google Play.\n",
        "\n",
        "Collecting data for over four million apps is very time intensive and could require money to obtain. So first we'll try to seek out and analyze a free sample of data. Fortunately, these are two data sets that seem suitable for our purpose:\n",
        "\n",
        "- [An Android dataset](https://www.kaggle.com/lava18/google-play-store-apps) that holds data on over ten thousand Android Apps from the Google Play Store. You can download the data set directly from [this link](https://dq-content.s3.amazonaws.com/350/googleplaystore.csv).\n",
        "- [An Ios dataset](https://www.kaggle.com/ramamet4/app-store-apple-data-set-10k-apps) that holds data on over seven thousand Ios Apps from the App Store. You can download the data set directly from [this link](https://dq-content.s3.amazonaws.com/350/AppleStore.csv).\n",
        "\n",
        "Let's start by opening the two data sets and then continue with exploring the data."
      ]
    },
    {
      "cell_type": "code",
      "metadata": {
        "id": "ExvQWxLGJgwL",
        "colab_type": "code",
        "colab": {}
      },
      "source": [
        "from csv import reader\n",
        "\n",
        "### The Google Play data set ###\n",
        "opened_file = open('googleplaystore.csv')\n",
        "read_file = reader(opened_file)\n",
        "android = list(read_file)\n",
        "android_header = android[0]\n",
        "android = android[1:]\n",
        "\n",
        "### The App Store data set ###\n",
        "opened_file = open('AppleStore.csv')\n",
        "read_file = reader(opened_file)\n",
        "ios = list(read_file)\n",
        "ios_header = ios[0]\n",
        "ios = ios[1:]"
      ],
      "execution_count": null,
      "outputs": []
    },
    {
      "cell_type": "markdown",
      "metadata": {
        "id": "GfIB4hgZJgwS",
        "colab_type": "text"
      },
      "source": [
        "In order to explore the data sets at a glance, we have written a function called explore_data() that we can use repeatedly and will allow us to easily look at a more readable slice of data from each data set. Also, we will add to our function the ability to determine the number or rows and columns from each data set."
      ]
    },
    {
      "cell_type": "code",
      "metadata": {
        "id": "iVIA-uSjJgwT",
        "colab_type": "code",
        "colab": {}
      },
      "source": [
        "def explore_data(dataset, start, end, rows_and_columns=False):\n",
        "    dataset_slice = dataset[start:end]    \n",
        "    for row in dataset_slice:\n",
        "        print(row)\n",
        "        print('\\n') # adds a new (empty) line after each row\n",
        "\n",
        "    if rows_and_columns:\n",
        "        print('Number of rows:', len(dataset))\n",
        "        print('Number of columns:', len(dataset[0]))     "
      ],
      "execution_count": null,
      "outputs": []
    },
    {
      "cell_type": "markdown",
      "metadata": {
        "id": "vxbh-3BmJgxH",
        "colab_type": "text"
      },
      "source": [
        "Let's take a quick look at the Android data set."
      ]
    },
    {
      "cell_type": "code",
      "metadata": {
        "scrolled": true,
        "id": "nMg-96vgJgxI",
        "colab_type": "code",
        "colab": {},
        "outputId": "a0a123ef-7ad3-4a24-dca6-6bd793b52733"
      },
      "source": [
        "print(android_header)\n",
        "print('\\n')\n",
        "first_rows_android = explore_data(android,0,4, True)\n",
        "print(first_rows_android)"
      ],
      "execution_count": null,
      "outputs": [
        {
          "output_type": "stream",
          "text": [
            "['App', 'Category', 'Rating', 'Reviews', 'Size', 'Installs', 'Type', 'Price', 'Content Rating', 'Genres', 'Last Updated', 'Current Ver', 'Android Ver']\n",
            "\n",
            "\n",
            "['Photo Editor & Candy Camera & Grid & ScrapBook', 'ART_AND_DESIGN', '4.1', '159', '19M', '10,000+', 'Free', '0', 'Everyone', 'Art & Design', 'January 7, 2018', '1.0.0', '4.0.3 and up']\n",
            "\n",
            "\n",
            "['Coloring book moana', 'ART_AND_DESIGN', '3.9', '967', '14M', '500,000+', 'Free', '0', 'Everyone', 'Art & Design;Pretend Play', 'January 15, 2018', '2.0.0', '4.0.3 and up']\n",
            "\n",
            "\n",
            "['U Launcher Lite – FREE Live Cool Themes, Hide Apps', 'ART_AND_DESIGN', '4.7', '87510', '8.7M', '5,000,000+', 'Free', '0', 'Everyone', 'Art & Design', 'August 1, 2018', '1.2.4', '4.0.3 and up']\n",
            "\n",
            "\n",
            "['Sketch - Draw & Paint', 'ART_AND_DESIGN', '4.5', '215644', '25M', '50,000,000+', 'Free', '0', 'Teen', 'Art & Design', 'June 8, 2018', 'Varies with device', '4.2 and up']\n",
            "\n",
            "\n",
            "Number of rows: 10841\n",
            "Number of columns: 13\n",
            "None\n"
          ],
          "name": "stdout"
        }
      ]
    },
    {
      "cell_type": "markdown",
      "metadata": {
        "id": "h9HqvW7rJgxN",
        "colab_type": "text"
      },
      "source": [
        "We see that the Google Play data set has 10841 apps and 13 columns. At a quick glance, the columns that might be useful for the purpose of our analysis are 'App', 'Category', 'Reviews', 'Installs', 'Type', 'Price', and 'Genres'.\n",
        "\n",
        "Now let's take a look at the App Store data set."
      ]
    },
    {
      "cell_type": "code",
      "metadata": {
        "id": "WoeTWs0WJgxP",
        "colab_type": "code",
        "colab": {},
        "outputId": "c1bef806-1011-442b-e21c-caaf327dbaa5"
      },
      "source": [
        "print(ios_header)\n",
        "print('\\n')\n",
        "first_rows_ios = explore_data(ios,0,4, True)\n",
        "print(first_rows_ios)"
      ],
      "execution_count": null,
      "outputs": [
        {
          "output_type": "stream",
          "text": [
            "['id', 'track_name', 'size_bytes', 'currency', 'price', 'rating_count_tot', 'rating_count_ver', 'user_rating', 'user_rating_ver', 'ver', 'cont_rating', 'prime_genre', 'sup_devices.num', 'ipadSc_urls.num', 'lang.num', 'vpp_lic']\n",
            "\n",
            "\n",
            "['284882215', 'Facebook', '389879808', 'USD', '0.0', '2974676', '212', '3.5', '3.5', '95.0', '4+', 'Social Networking', '37', '1', '29', '1']\n",
            "\n",
            "\n",
            "['389801252', 'Instagram', '113954816', 'USD', '0.0', '2161558', '1289', '4.5', '4.0', '10.23', '12+', 'Photo & Video', '37', '0', '29', '1']\n",
            "\n",
            "\n",
            "['529479190', 'Clash of Clans', '116476928', 'USD', '0.0', '2130805', '579', '4.5', '4.5', '9.24.12', '9+', 'Games', '38', '5', '18', '1']\n",
            "\n",
            "\n",
            "['420009108', 'Temple Run', '65921024', 'USD', '0.0', '1724546', '3842', '4.5', '4.0', '1.6.2', '9+', 'Games', '40', '5', '1', '1']\n",
            "\n",
            "\n",
            "Number of rows: 7197\n",
            "Number of columns: 16\n",
            "None\n"
          ],
          "name": "stdout"
        }
      ]
    },
    {
      "cell_type": "markdown",
      "metadata": {
        "id": "Dn0C8obNJgxV",
        "colab_type": "text"
      },
      "source": [
        "We have 7197 iOS apps in this data set, and the columns that seem interesting are: 'track_name', 'currency', 'price', 'rating_count_tot', 'rating_count_ver', and 'prime_genre'. Not all column names are self-explanatory in this case, but details about each column can be found in the data set [documentation](https://www.kaggle.com/ramamet4/app-store-apple-data-set-10k-apps/home)."
      ]
    },
    {
      "cell_type": "markdown",
      "metadata": {
        "id": "Nau4zWExJgxW",
        "colab_type": "text"
      },
      "source": [
        "# Deleting Faulty Data\n",
        "\n",
        "Next we will begin looking for faulty data and deleting it from our database. After looking at the Goggle Play discussion on [kaggle](https://www.kaggle.com/lava18/google-play-store-apps/discussion/81460) it is suspected a row has faulty data. We will inspect to confirm."
      ]
    },
    {
      "cell_type": "code",
      "metadata": {
        "id": "_h7zXIozJgxX",
        "colab_type": "code",
        "colab": {},
        "outputId": "aaf86d0c-4a92-4406-e2b0-43b47dbf8773"
      },
      "source": [
        "print(android[10472:10474])"
      ],
      "execution_count": null,
      "outputs": [
        {
          "output_type": "stream",
          "text": [
            "[['Life Made WI-Fi Touchscreen Photo Frame', '1.9', '19', '3.0M', '1,000+', 'Free', '0', 'Everyone', '', 'February 11, 2018', '1.0.19', '4.0 and up'], ['osmino Wi-Fi: free WiFi', 'TOOLS', '4.2', '134203', '4.1M', '10,000,000+', 'Free', '0', 'Everyone', 'Tools', 'August 7, 2018', '6.06.14', '4.4 and up']]\n"
          ],
          "name": "stdout"
        }
      ]
    },
    {
      "cell_type": "markdown",
      "metadata": {
        "id": "pzrxRyNUJgxi",
        "colab_type": "text"
      },
      "source": [
        "As expected the 'Life Made WI-Fi Touchscreen Photo Frame' app is probably missing its category in column[1]. 1.9 is not an app category and probably belongs to the rating category in column[2]. We will delete the row by referencing its index in the android database."
      ]
    },
    {
      "cell_type": "code",
      "metadata": {
        "id": "30iZdNIeJgxj",
        "colab_type": "code",
        "colab": {},
        "outputId": "4bc5c84b-c0b7-44d2-9c12-e2d7319a8136"
      },
      "source": [
        "print(len(android))\n",
        "del android[10472]\n",
        "print(len(android))"
      ],
      "execution_count": null,
      "outputs": [
        {
          "output_type": "stream",
          "text": [
            "10841\n",
            "10840\n"
          ],
          "name": "stdout"
        }
      ]
    },
    {
      "cell_type": "markdown",
      "metadata": {
        "id": "C4HCFCxoJgxz",
        "colab_type": "text"
      },
      "source": [
        "# Deleting Duplicate Data\n",
        "\n",
        "## Part 1\n",
        "\n",
        "Upon further reading of the [Goggle Play discussion board](https://www.kaggle.com/lava18/google-play-store-apps/discussion) it is clear that there are numerous duplicate entries for many of the apps. One of the apps discussed was 'Intstagram'. We will develope a simple test to see how many entries of 'Instagram' appear in the database. "
      ]
    },
    {
      "cell_type": "code",
      "metadata": {
        "scrolled": true,
        "id": "UtW-ZA58Jgx0",
        "colab_type": "code",
        "colab": {},
        "outputId": "c9c083d2-3065-4278-bffd-f373c0386910"
      },
      "source": [
        "for app in android:\n",
        "    name = app[0]\n",
        "    if name == 'Instagram':\n",
        "        print(app)"
      ],
      "execution_count": null,
      "outputs": [
        {
          "output_type": "stream",
          "text": [
            "['Instagram', 'SOCIAL', '4.5', '66577313', 'Varies with device', '1,000,000,000+', 'Free', '0', 'Teen', 'Social', 'July 31, 2018', 'Varies with device', 'Varies with device']\n",
            "['Instagram', 'SOCIAL', '4.5', '66577446', 'Varies with device', '1,000,000,000+', 'Free', '0', 'Teen', 'Social', 'July 31, 2018', 'Varies with device', 'Varies with device']\n",
            "['Instagram', 'SOCIAL', '4.5', '66577313', 'Varies with device', '1,000,000,000+', 'Free', '0', 'Teen', 'Social', 'July 31, 2018', 'Varies with device', 'Varies with device']\n",
            "['Instagram', 'SOCIAL', '4.5', '66509917', 'Varies with device', '1,000,000,000+', 'Free', '0', 'Teen', 'Social', 'July 31, 2018', 'Varies with device', 'Varies with device']\n"
          ],
          "name": "stdout"
        }
      ]
    },
    {
      "cell_type": "markdown",
      "metadata": {
        "id": "355_FitnJgx4",
        "colab_type": "text"
      },
      "source": [
        "Next we will create two lists. Onre for duplicate apps and one for unique apps. We will loop through the android data base and append each list to either the duplicate or unique list."
      ]
    },
    {
      "cell_type": "code",
      "metadata": {
        "id": "ubN0jpHAJgx5",
        "colab_type": "code",
        "colab": {},
        "outputId": "8ed82ba8-1f79-465f-fa7a-cda34495dc68"
      },
      "source": [
        "duplicate_apps = []\n",
        "unique_apps = []\n",
        "\n",
        "for app in android:\n",
        "    name = app[0]\n",
        "    if name in unique_apps:\n",
        "        duplicate_apps.append(name)\n",
        "    else:\n",
        "        unique_apps.append(name)\n",
        "    \n",
        "print('Number of unique apps:', len(unique_apps))\n",
        "print('\\n')  \n",
        "print('Number of duplicate apps:', len(duplicate_apps))\n",
        "print('\\n')\n",
        "print('Examples of duplicate apps:', duplicate_apps[:5])"
      ],
      "execution_count": null,
      "outputs": [
        {
          "output_type": "stream",
          "text": [
            "Number of unique apps: 9659\n",
            "\n",
            "\n",
            "Number of duplicate apps: 1181\n",
            "\n",
            "\n",
            "Examples of duplicate apps: ['Quick PDF Scanner + OCR FREE', 'Box', 'Google My Business', 'ZOOM Cloud Meetings', 'join.me - Simple Meetings']\n"
          ],
          "name": "stdout"
        }
      ]
    },
    {
      "cell_type": "markdown",
      "metadata": {
        "id": "JV4VuuljJgx8",
        "colab_type": "text"
      },
      "source": [
        "There are 1181 duplicate entries in the Android database. Upon further inspection of the 'Instagram' app, there are 4 entries that appear to be the same in all columns but one. That one column is number of ratings. We want to remove the duplicate entries by filtering out the least reviewed duplicates and keeping the most reviewed unique apps.  \n",
        "\n",
        "To do that, we will:\n",
        "\n",
        "- Create a dictionary where each key is a unique app name, and the value is the highest number of reviews of that app\n",
        "- Use the dictionary to create a new data set, which will have only one entry per app (and we only select the apps with the highest number of reviews)\n",
        "\n",
        "## Part Two\n",
        "Let's start by building the dictionary. "
      ]
    },
    {
      "cell_type": "code",
      "metadata": {
        "scrolled": true,
        "id": "7SqMa2X7Jgx9",
        "colab_type": "code",
        "colab": {}
      },
      "source": [
        "reviews_max = {}\n",
        "for app in android:\n",
        "    name = app[0]\n",
        "    n_reviews = float(app[3])\n",
        "    \n",
        "    if name in reviews_max and reviews_max[name] < n_reviews:\n",
        "        reviews_max[name] = n_reviews\n",
        "    elif name not in reviews_max:\n",
        "        reviews_max[name] = n_reviews            "
      ],
      "execution_count": null,
      "outputs": []
    },
    {
      "cell_type": "markdown",
      "metadata": {
        "id": "M62skuzDJgyD",
        "colab_type": "text"
      },
      "source": [
        "In a previous code cell, we found that there are 1,181 cases where an app occurs more than once, so the length of our dictionary (of unique apps) should be equal to the difference between the length of our data set and 1,181."
      ]
    },
    {
      "cell_type": "code",
      "metadata": {
        "id": "yrVml2YAJgyG",
        "colab_type": "code",
        "colab": {},
        "outputId": "b8b04e0f-359f-4a5e-f660-55d8f4594d28"
      },
      "source": [
        "print('Expected Length:', len(android) -1181)\n",
        "print('Actual Length:', len(reviews_max))"
      ],
      "execution_count": null,
      "outputs": [
        {
          "output_type": "stream",
          "text": [
            "Expected Length: 9659\n",
            "Actual Length: 9659\n"
          ],
          "name": "stdout"
        }
      ]
    },
    {
      "cell_type": "markdown",
      "metadata": {
        "id": "WB_-TvkQJgyJ",
        "colab_type": "text"
      },
      "source": [
        "Now, let's use the reviews_max dictionary to remove the duplicates. For the duplicate cases, we'll only keep the entries with the highest number of reviews. In the code cell below:\n",
        "\n",
        "- We start by initializing two empty lists, android_clean and already_added.\n",
        "- We loop through the android data set, and for every iteration:\n",
        "- - We isolate the name of the app and the number of reviews.\n",
        "- - We add the current row (app) to the android_clean list, and the app name (name) to the already_added list if:\n",
        "- - - The number of reviews of the current app matches the number of reviews of that app as described in the reviews_max dictionary; and\n",
        "- - - The name of the app is not already in the already_added list. We need to add this supplementary condition to account for those cases where the highest number of reviews of a duplicate app is the same for more than one entry (for example, the Box app has three entries, and the number of reviews is the same). If we just check for reviews_max[name] == n_reviews, we'll still end up with duplicate entries for some apps."
      ]
    },
    {
      "cell_type": "code",
      "metadata": {
        "id": "VCySt0z2JgyK",
        "colab_type": "code",
        "colab": {}
      },
      "source": [
        "android_clean = []\n",
        "already_added = []\n",
        "\n",
        "for app in android:\n",
        "    name = app[0]\n",
        "    n_reviews = float(app[3])\n",
        "\n",
        "    if (reviews_max[name] == n_reviews) and (name not in already_added):\n",
        "        android_clean.append(app)\n",
        "        already_added.append(name)    "
      ],
      "execution_count": null,
      "outputs": []
    },
    {
      "cell_type": "markdown",
      "metadata": {
        "id": "MMWOh1JrJgyP",
        "colab_type": "text"
      },
      "source": [
        "Now let's quickly explore the new data set, and confirm that the number of rows is 9,659."
      ]
    },
    {
      "cell_type": "code",
      "metadata": {
        "scrolled": true,
        "id": "N_EI1FNmJgyQ",
        "colab_type": "code",
        "colab": {},
        "outputId": "1276d384-bb51-4dff-a5f9-4df594275911"
      },
      "source": [
        "explore_data(android_clean, 0, 3, True)"
      ],
      "execution_count": null,
      "outputs": [
        {
          "output_type": "stream",
          "text": [
            "['Photo Editor & Candy Camera & Grid & ScrapBook', 'ART_AND_DESIGN', '4.1', '159', '19M', '10,000+', 'Free', '0', 'Everyone', 'Art & Design', 'January 7, 2018', '1.0.0', '4.0.3 and up']\n",
            "\n",
            "\n",
            "['U Launcher Lite – FREE Live Cool Themes, Hide Apps', 'ART_AND_DESIGN', '4.7', '87510', '8.7M', '5,000,000+', 'Free', '0', 'Everyone', 'Art & Design', 'August 1, 2018', '1.2.4', '4.0.3 and up']\n",
            "\n",
            "\n",
            "['Sketch - Draw & Paint', 'ART_AND_DESIGN', '4.5', '215644', '25M', '50,000,000+', 'Free', '0', 'Teen', 'Art & Design', 'June 8, 2018', 'Varies with device', '4.2 and up']\n",
            "\n",
            "\n",
            "Number of rows: 9659\n",
            "Number of columns: 13\n"
          ],
          "name": "stdout"
        }
      ]
    },
    {
      "cell_type": "markdown",
      "metadata": {
        "id": "ArnG3gFQJgyZ",
        "colab_type": "text"
      },
      "source": [
        "We have 9659 rows, just as expected.\n",
        "\n",
        "# Deleting Non-English Data\n",
        "\n",
        "## Part One\n",
        "\n",
        "If you explore the data sets enough, you'll notice the names of some of the apps suggest they are not directed toward an English-speaking audience. Below, we see a couple of examples from both data sets:"
      ]
    },
    {
      "cell_type": "code",
      "metadata": {
        "id": "aUUPf0w0Jgya",
        "colab_type": "code",
        "colab": {},
        "outputId": "5187235f-0c2d-4b72-b5e7-f2ad4450ef71"
      },
      "source": [
        "print(ios[813][1])\n",
        "print(ios[6731][1])\n",
        "\n",
        "print(android_clean[4412][0])\n",
        "print(android_clean[7940][0])"
      ],
      "execution_count": null,
      "outputs": [
        {
          "output_type": "stream",
          "text": [
            "爱奇艺PPS -《欢乐颂2》电视剧热播\n",
            "【脱出ゲーム】絶対に最後までプレイしないで 〜謎解き＆ブロックパズル〜\n",
            "中国語 AQリスニング\n",
            "لعبة تقدر تربح DZ\n"
          ],
          "name": "stdout"
        }
      ]
    },
    {
      "cell_type": "markdown",
      "metadata": {
        "id": "EMt0nGNgJgyf",
        "colab_type": "text"
      },
      "source": [
        "We're not interested in keeping these kind of apps, so we'll remove them. One way to go about this is to remove each app whose name contains a symbol that is not commonly used in English text — English text usually includes letters from the English alphabet, numbers composed of digits from 0 to 9, punctuation marks (., !, ?, ;, etc.), and other symbols (+, *, /, etc.).\n",
        "\n",
        "All these characters that are specific to English texts are encoded using the ASCII standard. Each ASCII character has a corresponding number between 0 and 127 associated with it, and we can take advantage of that to build a function that checks an app name and tells us whether it contains non-ASCII characters.\n",
        "\n",
        "We built this function below, and we use the built-in ord() function to find out the corresponding encoding number of each character."
      ]
    },
    {
      "cell_type": "code",
      "metadata": {
        "id": "IbhIH_3nJgyg",
        "colab_type": "code",
        "colab": {}
      },
      "source": [
        "def is_english(string):\n",
        "    for character in string:\n",
        "        if ord(character) > 127:\n",
        "            return False\n",
        "    return True"
      ],
      "execution_count": null,
      "outputs": []
    },
    {
      "cell_type": "code",
      "metadata": {
        "id": "mVfwpsf5Jgyp",
        "colab_type": "code",
        "colab": {},
        "outputId": "665b3736-77fe-40ac-e88a-6fb14d576786"
      },
      "source": [
        "print(is_english('Instagram'))\n",
        "print(is_english('爱奇艺PPS -《欢乐颂2》电视剧热播'))\n",
        "print(is_english('Docs To Go™ Free Office Suite'))\n",
        "print(is_english('Instachat 😜'))"
      ],
      "execution_count": null,
      "outputs": [
        {
          "output_type": "stream",
          "text": [
            "True\n",
            "False\n",
            "False\n",
            "False\n"
          ],
          "name": "stdout"
        }
      ]
    },
    {
      "cell_type": "markdown",
      "metadata": {
        "id": "soRllDgRJgy1",
        "colab_type": "text"
      },
      "source": [
        "The function seems to work fine, but some English app names use emojis or other symbols (™, — (em dash), – (en dash), etc.) that fall outside of the ASCII range. Because of this, we'll remove useful apps if we use the function in its current form."
      ]
    },
    {
      "cell_type": "markdown",
      "metadata": {
        "id": "tmR0HUABJgy3",
        "colab_type": "text"
      },
      "source": [
        "If we're going to use the function we've created, we'll lose useful data since many English apps will be incorrectly labeled as non-English. \n",
        "\n",
        "## Part Two\n",
        "\n",
        "To minimize the impact of data loss, we'll only remove an app if its name has more than three characters with corresponding numbers falling outside the ASCII range. This means all English apps with up to three emoji or other special characters will still be labeled as English. Our filter function is still not perfect, but it should be fairly effective."
      ]
    },
    {
      "cell_type": "code",
      "metadata": {
        "id": "bg48p_7IJgy3",
        "colab_type": "code",
        "colab": {},
        "outputId": "7afbefe4-73fe-432f-f557-467f69651a43"
      },
      "source": [
        "def is_english(string):\n",
        "    non_ascii = 0\n",
        "    \n",
        "    for character in string:\n",
        "        if ord(character) > 127:\n",
        "            non_ascii += 1\n",
        "     \n",
        "    if non_ascii > 3:\n",
        "        return False\n",
        "    else:        \n",
        "        return True\n",
        "\n",
        "print(is_english('Instagram'))\n",
        "print(is_english('爱奇艺PPS -《欢乐颂2》电视剧热播'))\n",
        "print(is_english('Docs To Go™ Free Office Suite'))\n",
        "print(is_english('Instachat 😜'))\n"
      ],
      "execution_count": null,
      "outputs": [
        {
          "output_type": "stream",
          "text": [
            "True\n",
            "False\n",
            "True\n",
            "True\n"
          ],
          "name": "stdout"
        }
      ]
    },
    {
      "cell_type": "markdown",
      "metadata": {
        "id": "jj25HASmJgy7",
        "colab_type": "text"
      },
      "source": [
        "The function is still not perfect, and very few non-English apps might get past our filter, but this seems good enough at this point in our analysis — we shouldn't spend too much time on optimization at this point.\n",
        "\n",
        "Below, we use the is_english() function to filter out the non-English apps for both data sets:"
      ]
    },
    {
      "cell_type": "code",
      "metadata": {
        "id": "VzVVKRdeJgy7",
        "colab_type": "code",
        "colab": {},
        "outputId": "91aaca90-9977-4838-bb3f-5768a430a368"
      },
      "source": [
        "android_english = []\n",
        "ios_english = []\n",
        "\n",
        "for app in android_clean:\n",
        "    name = app[0]\n",
        "    if is_english(name) == True:\n",
        "        android_english.append(app)\n",
        "        \n",
        "print(explore_data(android_english,0,5, True))  \n",
        "print(len(android_clean) - len(android_english))\n",
        "\n",
        "for app in ios:\n",
        "    name = app[1]\n",
        "    if is_english(name) == True:\n",
        "        ios_english.append(app)\n",
        "        \n",
        "print(explore_data(ios_english,0,5, True))  \n",
        "print(len(ios) - len(ios_english))\n"
      ],
      "execution_count": null,
      "outputs": [
        {
          "output_type": "stream",
          "text": [
            "['Photo Editor & Candy Camera & Grid & ScrapBook', 'ART_AND_DESIGN', '4.1', '159', '19M', '10,000+', 'Free', '0', 'Everyone', 'Art & Design', 'January 7, 2018', '1.0.0', '4.0.3 and up']\n",
            "\n",
            "\n",
            "['U Launcher Lite – FREE Live Cool Themes, Hide Apps', 'ART_AND_DESIGN', '4.7', '87510', '8.7M', '5,000,000+', 'Free', '0', 'Everyone', 'Art & Design', 'August 1, 2018', '1.2.4', '4.0.3 and up']\n",
            "\n",
            "\n",
            "['Sketch - Draw & Paint', 'ART_AND_DESIGN', '4.5', '215644', '25M', '50,000,000+', 'Free', '0', 'Teen', 'Art & Design', 'June 8, 2018', 'Varies with device', '4.2 and up']\n",
            "\n",
            "\n",
            "['Pixel Draw - Number Art Coloring Book', 'ART_AND_DESIGN', '4.3', '967', '2.8M', '100,000+', 'Free', '0', 'Everyone', 'Art & Design;Creativity', 'June 20, 2018', '1.1', '4.4 and up']\n",
            "\n",
            "\n",
            "['Paper flowers instructions', 'ART_AND_DESIGN', '4.4', '167', '5.6M', '50,000+', 'Free', '0', 'Everyone', 'Art & Design', 'March 26, 2017', '1.0', '2.3 and up']\n",
            "\n",
            "\n",
            "Number of rows: 9614\n",
            "Number of columns: 13\n",
            "None\n",
            "45\n",
            "['284882215', 'Facebook', '389879808', 'USD', '0.0', '2974676', '212', '3.5', '3.5', '95.0', '4+', 'Social Networking', '37', '1', '29', '1']\n",
            "\n",
            "\n",
            "['389801252', 'Instagram', '113954816', 'USD', '0.0', '2161558', '1289', '4.5', '4.0', '10.23', '12+', 'Photo & Video', '37', '0', '29', '1']\n",
            "\n",
            "\n",
            "['529479190', 'Clash of Clans', '116476928', 'USD', '0.0', '2130805', '579', '4.5', '4.5', '9.24.12', '9+', 'Games', '38', '5', '18', '1']\n",
            "\n",
            "\n",
            "['420009108', 'Temple Run', '65921024', 'USD', '0.0', '1724546', '3842', '4.5', '4.0', '1.6.2', '9+', 'Games', '40', '5', '1', '1']\n",
            "\n",
            "\n",
            "['284035177', 'Pandora - Music & Radio', '130242560', 'USD', '0.0', '1126879', '3594', '4.0', '4.5', '8.4.1', '12+', 'Music', '37', '4', '1', '1']\n",
            "\n",
            "\n",
            "Number of rows: 6183\n",
            "Number of columns: 16\n",
            "None\n",
            "1014\n"
          ],
          "name": "stdout"
        }
      ]
    },
    {
      "cell_type": "markdown",
      "metadata": {
        "id": "8LIf5E8wJgy_",
        "colab_type": "text"
      },
      "source": [
        "Only 45 Andriod apps were removed, but over 1000 Ios Apps were removed. We can see that we're left with 9614 Android apps and 6183 iOS apps. \n",
        "\n",
        "# Isolating Free Apps\n",
        "\n",
        "Since our company only builds free apps, we need to remove the non-free apps from our databases. Below, we isolate the free apps for both our data sets."
      ]
    },
    {
      "cell_type": "code",
      "metadata": {
        "id": "MsrtHe6hJgzA",
        "colab_type": "code",
        "colab": {},
        "outputId": "4cac8a9f-2823-4211-fbd8-fdfcc59741ff"
      },
      "source": [
        "android_free = []\n",
        "\n",
        "for app in android_english:\n",
        "    if app[7] == '0':\n",
        "        android_free.append(app)\n",
        "        \n",
        "ios_free = []\n",
        "\n",
        "for app in ios_english:\n",
        "    if app[4] == '0.0':\n",
        "        ios_free.append(app)       \n",
        "        \n",
        "print(len(android_free))\n",
        "print(len(ios_free))\n",
        "\n",
        "\n",
        "    "
      ],
      "execution_count": null,
      "outputs": [
        {
          "output_type": "stream",
          "text": [
            "8864\n",
            "3222\n"
          ],
          "name": "stdout"
        }
      ]
    },
    {
      "cell_type": "markdown",
      "metadata": {
        "id": "9cajR4U0JgzF",
        "colab_type": "text"
      },
      "source": [
        "We're left with 8864 Android apps and 3222 iOS apps, which should be enough for our analysis."
      ]
    },
    {
      "cell_type": "markdown",
      "metadata": {
        "id": "tHUHpvN7JgzG",
        "colab_type": "text"
      },
      "source": [
        "# Most Common Apps by Genre\n",
        "\n",
        "## Part One\n",
        "\n",
        "Our goal is to determine the kinds of apps that are likely to attract more users because our revenue is highly influenced by the number of people using our apps.\n",
        "\n",
        "To minimize risks and overhead, our validation strategy for an app idea is comprised of three steps:\n",
        "\n",
        "- Build a minimal Android version of the app, and add it to Google Play.\n",
        "- If the app has a good response from users, we develop it further.\n",
        "- If the app is profitable after six months, we build an iOS version of the app and add it to the App Store.\n",
        "\n",
        "Because our end goal is to add the app on both Google Play and the App Store, we need to find app profiles that are successful on both markets. \n",
        "\n",
        "\n",
        "## Part Two\n",
        "Let's begin the analysis by getting a sense of what are the most common genres for each market. For this we will need to identify the relevent columns. For the android database the columns \"Category\" and \"Genres\" look like a good starting point. The column \"prime_genre\" looks like our starting point for the ios database.  \n",
        "\n",
        "Below we will make frequency tables of the previously mentioned columns to better understand which genres are most common."
      ]
    },
    {
      "cell_type": "code",
      "metadata": {
        "id": "8Z6qfE-1JgzG",
        "colab_type": "code",
        "colab": {}
      },
      "source": [
        "def freq_table(dataset, index):\n",
        "    table = {}\n",
        "    total = 0\n",
        "    \n",
        "    for row in dataset:\n",
        "        total += 1\n",
        "        x = row[index]\n",
        "        if x in table:\n",
        "            table[x] += 1\n",
        "        else:\n",
        "            table[x] = 1\n",
        "    \n",
        "    table_percentage = {}\n",
        "    for key in table:\n",
        "        percentage = (table[key] / total) * 100 \n",
        "        table_percentage[key] = percentage \n",
        "            \n",
        "    return table_percentage\n",
        "\n",
        "def display_table(dataset, index):\n",
        "    table = freq_table(dataset, index)\n",
        "    table_display = []\n",
        "    for key in table:\n",
        "        key_val_as_tuple = (table[key], key)\n",
        "        table_display.append(key_val_as_tuple)\n",
        "\n",
        "    table_sorted = sorted(table_display, reverse = True)\n",
        "    for entry in table_sorted:\n",
        "        print(entry[1], ':', entry[0])\n",
        "\n",
        "    "
      ],
      "execution_count": null,
      "outputs": []
    },
    {
      "cell_type": "markdown",
      "metadata": {
        "id": "wIdImEpBJgzJ",
        "colab_type": "text"
      },
      "source": [
        "## Part Three\n",
        "\n",
        "We start by examining the frequency table for the prime_genre column of the App Store data set."
      ]
    },
    {
      "cell_type": "code",
      "metadata": {
        "id": "-I4OBRpSJgzK",
        "colab_type": "code",
        "colab": {},
        "outputId": "c73acdf3-ff57-422a-8e01-d882cf625b0d"
      },
      "source": [
        "print(display_table(ios_free,11))  "
      ],
      "execution_count": null,
      "outputs": [
        {
          "output_type": "stream",
          "text": [
            "Games : 58.16263190564867\n",
            "Entertainment : 7.883302296710118\n",
            "Photo & Video : 4.9658597144630665\n",
            "Education : 3.662321539416512\n",
            "Social Networking : 3.2898820608317814\n",
            "Shopping : 2.60707635009311\n",
            "Utilities : 2.5139664804469275\n",
            "Sports : 2.1415270018621975\n",
            "Music : 2.0484171322160147\n",
            "Health & Fitness : 2.0173805090006205\n",
            "Productivity : 1.7380509000620732\n",
            "Lifestyle : 1.5828677839851024\n",
            "News : 1.3345747982619491\n",
            "Travel : 1.2414649286157666\n",
            "Finance : 1.1173184357541899\n",
            "Weather : 0.8690254500310366\n",
            "Food & Drink : 0.8069522036002483\n",
            "Reference : 0.5586592178770949\n",
            "Business : 0.5276225946617008\n",
            "Book : 0.4345127250155183\n",
            "Navigation : 0.186219739292365\n",
            "Medical : 0.186219739292365\n",
            "Catalogs : 0.12414649286157665\n",
            "None\n"
          ],
          "name": "stdout"
        }
      ]
    },
    {
      "cell_type": "markdown",
      "metadata": {
        "id": "s62QWrPLJgzO",
        "colab_type": "text"
      },
      "source": [
        "Over 58% of the app store apps are in the 'games' genre. This dwarfs 'entertainment' which accounts for 7.9% of apps. This is followed by photo and video apps, which are close to 5%. Only 3.66% of the apps are designed for education, followed by social networking apps which amount for 3.29% of the apps in our data set.\n",
        "\n",
        "The big picture view is that the App Sore (at least the free and english apps) is dominated by apps designed for leasure. Leasure apps like (games, photo and video, social networking, entertainment) make up 4 of the top 5 cateogries for apps created, compared to the smaller percentage of pratical apps like (shopping, utlities, heath and fitness, productivity)\n",
        "\n",
        "Looking at just this database we would recommend make an app in the games genre. It accounts for 58% of total apps. However, the fact that fun apps are the most numerous doesn't also imply that they also have the greatest number of users — the demand might not be the same as the offer. We will have to test that idea later. \n",
        "\n",
        "Let's continue by examining the Genres and Category columns of the Google Play data set (two columns which seem to be related)."
      ]
    },
    {
      "cell_type": "code",
      "metadata": {
        "id": "BMEMNFKYJgzP",
        "colab_type": "code",
        "colab": {},
        "outputId": "1c02c159-9394-4f02-d890-357e6fa19be5"
      },
      "source": [
        "display_table(android_free,1)"
      ],
      "execution_count": null,
      "outputs": [
        {
          "output_type": "stream",
          "text": [
            "FAMILY : 18.907942238267147\n",
            "GAME : 9.724729241877256\n",
            "TOOLS : 8.461191335740072\n",
            "BUSINESS : 4.591606498194946\n",
            "LIFESTYLE : 3.9034296028880866\n",
            "PRODUCTIVITY : 3.892148014440433\n",
            "FINANCE : 3.7003610108303246\n",
            "MEDICAL : 3.531137184115524\n",
            "SPORTS : 3.395758122743682\n",
            "PERSONALIZATION : 3.3167870036101084\n",
            "COMMUNICATION : 3.2378158844765346\n",
            "HEALTH_AND_FITNESS : 3.0798736462093865\n",
            "PHOTOGRAPHY : 2.944494584837545\n",
            "NEWS_AND_MAGAZINES : 2.7978339350180503\n",
            "SOCIAL : 2.6624548736462095\n",
            "TRAVEL_AND_LOCAL : 2.33528880866426\n",
            "SHOPPING : 2.2450361010830324\n",
            "BOOKS_AND_REFERENCE : 2.1435018050541514\n",
            "DATING : 1.861462093862816\n",
            "VIDEO_PLAYERS : 1.7937725631768955\n",
            "MAPS_AND_NAVIGATION : 1.3989169675090252\n",
            "FOOD_AND_DRINK : 1.2409747292418771\n",
            "EDUCATION : 1.1620036101083033\n",
            "ENTERTAINMENT : 0.9589350180505415\n",
            "LIBRARIES_AND_DEMO : 0.9363718411552346\n",
            "AUTO_AND_VEHICLES : 0.9250902527075812\n",
            "HOUSE_AND_HOME : 0.8235559566787004\n",
            "WEATHER : 0.8009927797833934\n",
            "EVENTS : 0.7107400722021661\n",
            "PARENTING : 0.6543321299638989\n",
            "ART_AND_DESIGN : 0.6430505415162455\n",
            "COMICS : 0.6204873646209386\n",
            "BEAUTY : 0.5979241877256317\n"
          ],
          "name": "stdout"
        }
      ]
    },
    {
      "cell_type": "markdown",
      "metadata": {
        "id": "NJqb1QZXJgzV",
        "colab_type": "text"
      },
      "source": [
        "The genre family tops out at over 18.9% on the Google play store. Second is game at 9.7%, followed by Tools at 8.5%. Business account for only 4.6% of total apps, while lieftsyle apps come in around 3.9%.\n",
        "\n",
        "The picture appears more nuanced on the Google Play store compared to the App Store. Leasure Apps don't appear to dominate like in the App Store dataset. However, if we investigate this further, we can see that the family category (which accounts for almost 19% of the apps) means mostly games for kids. So over 27% of apps on the Google Play store seemed game-oriented. \n",
        "\n",
        "We have one more Google Play column to analyze. "
      ]
    },
    {
      "cell_type": "code",
      "metadata": {
        "id": "E0SPAVX-JgzW",
        "colab_type": "code",
        "colab": {},
        "outputId": "79be05a6-5b81-4566-d50d-090caf4d1b5b"
      },
      "source": [
        "print(display_table(android_free,9)) "
      ],
      "execution_count": null,
      "outputs": [
        {
          "output_type": "stream",
          "text": [
            "Tools : 8.449909747292418\n",
            "Entertainment : 6.069494584837545\n",
            "Education : 5.347472924187725\n",
            "Business : 4.591606498194946\n",
            "Productivity : 3.892148014440433\n",
            "Lifestyle : 3.892148014440433\n",
            "Finance : 3.7003610108303246\n",
            "Medical : 3.531137184115524\n",
            "Sports : 3.463447653429603\n",
            "Personalization : 3.3167870036101084\n",
            "Communication : 3.2378158844765346\n",
            "Action : 3.1024368231046933\n",
            "Health & Fitness : 3.0798736462093865\n",
            "Photography : 2.944494584837545\n",
            "News & Magazines : 2.7978339350180503\n",
            "Social : 2.6624548736462095\n",
            "Travel & Local : 2.3240072202166067\n",
            "Shopping : 2.2450361010830324\n",
            "Books & Reference : 2.1435018050541514\n",
            "Simulation : 2.0419675090252705\n",
            "Dating : 1.861462093862816\n",
            "Arcade : 1.8501805054151623\n",
            "Video Players & Editors : 1.7712093862815883\n",
            "Casual : 1.7599277978339352\n",
            "Maps & Navigation : 1.3989169675090252\n",
            "Food & Drink : 1.2409747292418771\n",
            "Puzzle : 1.128158844765343\n",
            "Racing : 0.9927797833935018\n",
            "Role Playing : 0.9363718411552346\n",
            "Libraries & Demo : 0.9363718411552346\n",
            "Auto & Vehicles : 0.9250902527075812\n",
            "Strategy : 0.9138086642599278\n",
            "House & Home : 0.8235559566787004\n",
            "Weather : 0.8009927797833934\n",
            "Events : 0.7107400722021661\n",
            "Adventure : 0.6768953068592057\n",
            "Comics : 0.6092057761732852\n",
            "Beauty : 0.5979241877256317\n",
            "Art & Design : 0.5979241877256317\n",
            "Parenting : 0.4963898916967509\n",
            "Card : 0.45126353790613716\n",
            "Casino : 0.42870036101083037\n",
            "Trivia : 0.41741877256317694\n",
            "Educational;Education : 0.39485559566787\n",
            "Board : 0.3835740072202166\n",
            "Educational : 0.3722924187725632\n",
            "Education;Education : 0.33844765342960287\n",
            "Word : 0.2594765342960289\n",
            "Casual;Pretend Play : 0.236913357400722\n",
            "Music : 0.2030685920577617\n",
            "Racing;Action & Adventure : 0.16922382671480143\n",
            "Puzzle;Brain Games : 0.16922382671480143\n",
            "Entertainment;Music & Video : 0.16922382671480143\n",
            "Casual;Brain Games : 0.13537906137184114\n",
            "Casual;Action & Adventure : 0.13537906137184114\n",
            "Arcade;Action & Adventure : 0.12409747292418773\n",
            "Action;Action & Adventure : 0.10153429602888085\n",
            "Educational;Pretend Play : 0.09025270758122744\n",
            "Simulation;Action & Adventure : 0.078971119133574\n",
            "Parenting;Education : 0.078971119133574\n",
            "Entertainment;Brain Games : 0.078971119133574\n",
            "Board;Brain Games : 0.078971119133574\n",
            "Parenting;Music & Video : 0.06768953068592057\n",
            "Educational;Brain Games : 0.06768953068592057\n",
            "Casual;Creativity : 0.06768953068592057\n",
            "Art & Design;Creativity : 0.06768953068592057\n",
            "Education;Pretend Play : 0.056407942238267145\n",
            "Role Playing;Pretend Play : 0.04512635379061372\n",
            "Education;Creativity : 0.04512635379061372\n",
            "Role Playing;Action & Adventure : 0.033844765342960284\n",
            "Puzzle;Action & Adventure : 0.033844765342960284\n",
            "Entertainment;Creativity : 0.033844765342960284\n",
            "Entertainment;Action & Adventure : 0.033844765342960284\n",
            "Educational;Creativity : 0.033844765342960284\n",
            "Educational;Action & Adventure : 0.033844765342960284\n",
            "Education;Music & Video : 0.033844765342960284\n",
            "Education;Brain Games : 0.033844765342960284\n",
            "Education;Action & Adventure : 0.033844765342960284\n",
            "Adventure;Action & Adventure : 0.033844765342960284\n",
            "Video Players & Editors;Music & Video : 0.02256317689530686\n",
            "Sports;Action & Adventure : 0.02256317689530686\n",
            "Simulation;Pretend Play : 0.02256317689530686\n",
            "Puzzle;Creativity : 0.02256317689530686\n",
            "Music;Music & Video : 0.02256317689530686\n",
            "Entertainment;Pretend Play : 0.02256317689530686\n",
            "Casual;Education : 0.02256317689530686\n",
            "Board;Action & Adventure : 0.02256317689530686\n",
            "Video Players & Editors;Creativity : 0.01128158844765343\n",
            "Trivia;Education : 0.01128158844765343\n",
            "Travel & Local;Action & Adventure : 0.01128158844765343\n",
            "Tools;Education : 0.01128158844765343\n",
            "Strategy;Education : 0.01128158844765343\n",
            "Strategy;Creativity : 0.01128158844765343\n",
            "Strategy;Action & Adventure : 0.01128158844765343\n",
            "Simulation;Education : 0.01128158844765343\n",
            "Role Playing;Brain Games : 0.01128158844765343\n",
            "Racing;Pretend Play : 0.01128158844765343\n",
            "Puzzle;Education : 0.01128158844765343\n",
            "Parenting;Brain Games : 0.01128158844765343\n",
            "Music & Audio;Music & Video : 0.01128158844765343\n",
            "Lifestyle;Pretend Play : 0.01128158844765343\n",
            "Lifestyle;Education : 0.01128158844765343\n",
            "Health & Fitness;Education : 0.01128158844765343\n",
            "Health & Fitness;Action & Adventure : 0.01128158844765343\n",
            "Entertainment;Education : 0.01128158844765343\n",
            "Communication;Creativity : 0.01128158844765343\n",
            "Comics;Creativity : 0.01128158844765343\n",
            "Casual;Music & Video : 0.01128158844765343\n",
            "Card;Action & Adventure : 0.01128158844765343\n",
            "Books & Reference;Education : 0.01128158844765343\n",
            "Art & Design;Pretend Play : 0.01128158844765343\n",
            "Art & Design;Action & Adventure : 0.01128158844765343\n",
            "Arcade;Pretend Play : 0.01128158844765343\n",
            "Adventure;Education : 0.01128158844765343\n",
            "None\n"
          ],
          "name": "stdout"
        }
      ]
    },
    {
      "cell_type": "markdown",
      "metadata": {
        "id": "MwXBPP_JJgza",
        "colab_type": "text"
      },
      "source": [
        "Tools top out the second Google Play genre column we analyzed at around 8.4%. This is followed by Entertainmentat 6.1%. 3 practical use apps round out the top 5 apps from this column. Those are education at 5.3&, Business at 4.6%, and Productivity at 3.9%. Suprisingly the most frequent category from the App Store game is not a catergory in this Google Play column. \n",
        "\n",
        "This comparison will have limitations because it is apparent that both platforms define categories differently. However, this second Google Play column 'Genre' seems to define categories more granular than the previous column 'Category'.\n",
        "\n",
        "Our plan was to make an app that is profitble on the Google Play store for 6 months and then make a similiar Ios version. With that in mind games still seem like the safest app investment given this data. Family (which appears to be kids games) and Games are the two most popular genres in the Google Play 'Category' column, while they don't appear in the second. We're only looking for the bigger picture at the moment, so we'll only work with the 'Category' column moving forward.\n",
        "\n",
        "We know that games account for over 58% of App Store apps, so if we make a successaful game (possibly kids game) on the Google Play store, it has a good chance of success on the App Store. \n",
        "\n",
        "Given the lack of agreement between databases it best to dive in a bit deeper to the see which apps are more popular apps and see it that will help narrow down our app idea. \n",
        "\n"
      ]
    },
    {
      "cell_type": "markdown",
      "metadata": {
        "id": "Xz6zumlGJgza",
        "colab_type": "text"
      },
      "source": [
        "# Most Popular Apps by Genre on the App Store\n",
        "One way to find out what genres are the most popular (have the most users) is to calculate the average number of installs for each app genre. For the Google Play data set, we can find this information in the Installs column, but for the App Store data set this information is missing. As a workaround, we'll take the total number of user ratings as a proxy, which we can find in the rating_count_tot app.\n",
        "\n",
        "Below, we calculate the average number of user ratings per app genre on the App Store:"
      ]
    },
    {
      "cell_type": "code",
      "metadata": {
        "id": "qvesyDpXJgza",
        "colab_type": "code",
        "colab": {},
        "outputId": "72811d8f-0d4d-44ee-e0ca-e6b6743abe32"
      },
      "source": [
        "def freq_table(dataset, index):\n",
        "    table = {}\n",
        "    total = 0\n",
        "    \n",
        "    for row in dataset:\n",
        "        total += 1\n",
        "        x = row[index]\n",
        "        if x in table:\n",
        "            table[x] += 1\n",
        "        else:\n",
        "            table[x] = 1\n",
        "    \n",
        "    table_percentage = {}\n",
        "    for key in table:\n",
        "        percentage = (table[key] / total) * 100 \n",
        "        table_percentage[key] = percentage \n",
        "            \n",
        "    return table_percentage\n",
        "\n",
        "\n",
        "ios_genre = freq_table(ios_free,11)\n",
        "\n",
        "\n",
        "for genre in ios_genre:\n",
        "    total = 0\n",
        "    len_genre = 0 \n",
        "   \n",
        "    for app in ios_free:\n",
        "        genre_app = app[11]\n",
        "        if genre_app == genre:\n",
        "            user_rating = float(app[5])\n",
        "            total += user_rating\n",
        "            len_genre += 1\n",
        "\n",
        "    avg_user_ratings = total / len_genre\n",
        "    print(genre, ':', avg_user_ratings)\n",
        "\n",
        "\n"
      ],
      "execution_count": null,
      "outputs": [
        {
          "output_type": "stream",
          "text": [
            "Sports : 23008.898550724636\n",
            "Reference : 74942.11111111111\n",
            "Games : 22788.6696905016\n",
            "Book : 39758.5\n",
            "Business : 7491.117647058823\n",
            "Catalogs : 4004.0\n",
            "Travel : 28243.8\n",
            "News : 21248.023255813954\n",
            "Weather : 52279.892857142855\n",
            "Music : 57326.530303030304\n",
            "Utilities : 18684.456790123455\n",
            "Education : 7003.983050847458\n",
            "Photo & Video : 28441.54375\n",
            "Finance : 31467.944444444445\n",
            "Lifestyle : 16485.764705882353\n",
            "Shopping : 26919.690476190477\n",
            "Productivity : 21028.410714285714\n",
            "Navigation : 86090.33333333333\n",
            "Social Networking : 71548.34905660378\n",
            "Health & Fitness : 23298.015384615384\n",
            "Entertainment : 14029.830708661417\n",
            "Medical : 612.0\n",
            "Food & Drink : 33333.92307692308\n"
          ],
          "name": "stdout"
        }
      ]
    },
    {
      "cell_type": "markdown",
      "metadata": {
        "id": "FcwRde9nJgzg",
        "colab_type": "text"
      },
      "source": [
        "On average, navigation apps have the highest number of user reviews, but this figure is heavily influenced by Waze and Google Maps, which have close to half a million user reviews together:"
      ]
    },
    {
      "cell_type": "code",
      "metadata": {
        "id": "yFAwf55UJgzg",
        "colab_type": "code",
        "colab": {},
        "outputId": "88e36c2d-f5de-44e7-e4ba-7695d89679d8"
      },
      "source": [
        "for app in ios_free:\n",
        "    if app[11] == 'Navigation':\n",
        "        print(app[1], ':', app[5])"
      ],
      "execution_count": null,
      "outputs": [
        {
          "output_type": "stream",
          "text": [
            "Waze - GPS Navigation, Maps & Real-time Traffic : 345046\n",
            "Google Maps - Navigation & Transit : 154911\n",
            "Geocaching® : 12811\n",
            "CoPilot GPS – Car Navigation & Offline Maps : 3582\n",
            "ImmobilienScout24: Real Estate Search in Germany : 187\n",
            "Railway Route Search : 5\n"
          ],
          "name": "stdout"
        }
      ]
    },
    {
      "cell_type": "markdown",
      "metadata": {
        "id": "GQ7w-HxlJgzm",
        "colab_type": "text"
      },
      "source": [
        "A similiar pattern applies to Social Networking apps. Facebook has almost 3 million ratings, while Pinterest has over a million. "
      ]
    },
    {
      "cell_type": "code",
      "metadata": {
        "scrolled": true,
        "id": "AKBQ11ZRJgzn",
        "colab_type": "code",
        "colab": {},
        "outputId": "4529991a-8d79-4cc6-c0b7-a4380bde31c9"
      },
      "source": [
        "for app in ios_free:\n",
        "    if app[11] == 'Social Networking':\n",
        "        print(app[1], ':', app[5])"
      ],
      "execution_count": null,
      "outputs": [
        {
          "output_type": "stream",
          "text": [
            "Facebook : 2974676\n",
            "Pinterest : 1061624\n",
            "Skype for iPhone : 373519\n",
            "Messenger : 351466\n",
            "Tumblr : 334293\n",
            "WhatsApp Messenger : 287589\n",
            "Kik : 260965\n",
            "ooVoo – Free Video Call, Text and Voice : 177501\n",
            "TextNow - Unlimited Text + Calls : 164963\n",
            "Viber Messenger – Text & Call : 164249\n",
            "Followers - Social Analytics For Instagram : 112778\n",
            "MeetMe - Chat and Meet New People : 97072\n",
            "We Heart It - Fashion, wallpapers, quotes, tattoos : 90414\n",
            "InsTrack for Instagram - Analytics Plus More : 85535\n",
            "Tango - Free Video Call, Voice and Chat : 75412\n",
            "LinkedIn : 71856\n",
            "Match™ - #1 Dating App. : 60659\n",
            "Skype for iPad : 60163\n",
            "POF - Best Dating App for Conversations : 52642\n",
            "Timehop : 49510\n",
            "Find My Family, Friends & iPhone - Life360 Locator : 43877\n",
            "Whisper - Share, Express, Meet : 39819\n",
            "Hangouts : 36404\n",
            "LINE PLAY - Your Avatar World : 34677\n",
            "WeChat : 34584\n",
            "Badoo - Meet New People, Chat, Socialize. : 34428\n",
            "Followers + for Instagram - Follower Analytics : 28633\n",
            "GroupMe : 28260\n",
            "Marco Polo Video Walkie Talkie : 27662\n",
            "Miitomo : 23965\n",
            "SimSimi : 23530\n",
            "Grindr - Gay and same sex guys chat, meet and date : 23201\n",
            "Wishbone - Compare Anything : 20649\n",
            "imo video calls and chat : 18841\n",
            "After School - Funny Anonymous School News : 18482\n",
            "Quick Reposter - Repost, Regram and Reshare Photos : 17694\n",
            "Weibo HD : 16772\n",
            "Repost for Instagram : 15185\n",
            "Live.me – Live Video Chat & Make Friends Nearby : 14724\n",
            "Nextdoor : 14402\n",
            "Followers Analytics for Instagram - InstaReport : 13914\n",
            "YouNow: Live Stream Video Chat : 12079\n",
            "FollowMeter for Instagram - Followers Tracking : 11976\n",
            "LINE : 11437\n",
            "eHarmony™ Dating App - Meet Singles : 11124\n",
            "Discord - Chat for Gamers : 9152\n",
            "QQ : 9109\n",
            "Telegram Messenger : 7573\n",
            "Weibo : 7265\n",
            "Periscope - Live Video Streaming Around the World : 6062\n",
            "Chat for Whatsapp - iPad Version : 5060\n",
            "QQ HD : 5058\n",
            "Followers Analysis Tool For Instagram App Free : 4253\n",
            "live.ly - live video streaming : 4145\n",
            "Houseparty - Group Video Chat : 3991\n",
            "SOMA Messenger : 3232\n",
            "Monkey : 3060\n",
            "Down To Lunch : 2535\n",
            "Flinch - Video Chat Staring Contest : 2134\n",
            "Highrise - Your Avatar Community : 2011\n",
            "LOVOO - Dating Chat : 1985\n",
            "PlayStation®Messages : 1918\n",
            "BOO! - Video chat camera with filters & stickers : 1805\n",
            "Qzone : 1649\n",
            "Chatous - Chat with new people : 1609\n",
            "Kiwi - Q&A : 1538\n",
            "GhostCodes - a discovery app for Snapchat : 1313\n",
            "Jodel : 1193\n",
            "FireChat : 1037\n",
            "Google Duo - simple video calling : 1033\n",
            "Fiesta by Tango - Chat & Meet New People : 885\n",
            "Google Allo — smart messaging : 862\n",
            "Peach — share vividly : 727\n",
            "Hey! VINA - Where Women Meet New Friends : 719\n",
            "Battlefield™ Companion : 689\n",
            "All Devices for WhatsApp - Messenger for iPad : 682\n",
            "Chat for Pokemon Go - GoChat : 500\n",
            "IAmNaughty – Dating App to Meet New People Online : 463\n",
            "Qzone HD : 458\n",
            "Zenly - Locate your friends in realtime : 427\n",
            "League of Legends Friends : 420\n",
            "豆瓣 : 407\n",
            "Candid - Speak Your Mind Freely : 398\n",
            "知乎 : 397\n",
            "Selfeo : 366\n",
            "Fake-A-Location Free ™ : 354\n",
            "Popcorn Buzz - Free Group Calls : 281\n",
            "Fam — Group video calling for iMessage : 279\n",
            "QQ International : 274\n",
            "Ameba : 269\n",
            "SoundCloud Pulse: for creators : 240\n",
            "Tantan : 235\n",
            "Cougar Dating & Life Style App for Mature Women : 213\n",
            "Rawr Messenger - Dab your chat : 180\n",
            "WhenToPost: Best Time to Post Photos for Instagram : 158\n",
            "Inke—Broadcast an amazing life : 147\n",
            "Mustknow - anonymous video Q&A : 53\n",
            "CTFxCmoji : 39\n",
            "Lobi : 36\n",
            "Chain: Collaborate On MyVideo Story/Group Video : 35\n",
            "botman - Real time video chat : 7\n",
            "BestieBox : 0\n",
            "MATCH ON LINE chat : 0\n",
            "niconico ch : 0\n",
            "LINE BLOG : 0\n",
            "bit-tube - Live Stream Video Chat : 0\n"
          ],
          "name": "stdout"
        }
      ]
    },
    {
      "cell_type": "markdown",
      "metadata": {
        "id": "HzDF6WRcJgzu",
        "colab_type": "text"
      },
      "source": [
        "Reference shows some promise. It is dominated by the Bible with almost a million ratings, but it doesn't have as much competition as the social networking apps and isn't has top heavy as the navigation apps. \n",
        "\n",
        "Two reference app paths seem viable given this data:\n",
        "- **We could make an app that takes an already existing popular book and add more features than just the book. This could include:**\n",
        "- - an audio version or clips of the text\n",
        "- - daily quotes from the book \n",
        "- - quizzes about the book\n",
        "- - forums to discuss book details deeper\n",
        "- **We could make an app that takes an already existing game and provide additional material to help the user's progress in the game. This could include:**\n",
        "- - general tips and specific tips about beating a certain level or boss\n",
        "- - detailed maps of the game's landscape\n",
        "- - skins for that game\n",
        "- - dictionary or glossary of terms specific for that game\n",
        "- - daily quotes or challenges for that game"
      ]
    },
    {
      "cell_type": "code",
      "metadata": {
        "scrolled": true,
        "id": "STW4Sk-8Jgzu",
        "colab_type": "code",
        "colab": {},
        "outputId": "035e06b2-2302-4437-9ee6-f10180f27de6"
      },
      "source": [
        "for app in ios_free:\n",
        "    if app[11] == 'Reference':\n",
        "        print(app[1], ':', app[5])"
      ],
      "execution_count": null,
      "outputs": [
        {
          "output_type": "stream",
          "text": [
            "Bible : 985920\n",
            "Dictionary.com Dictionary & Thesaurus : 200047\n",
            "Dictionary.com Dictionary & Thesaurus for iPad : 54175\n",
            "Google Translate : 26786\n",
            "Muslim Pro: Ramadan 2017 Prayer Times, Azan, Quran : 18418\n",
            "New Furniture Mods - Pocket Wiki & Game Tools for Minecraft PC Edition : 17588\n",
            "Merriam-Webster Dictionary : 16849\n",
            "Night Sky : 12122\n",
            "City Maps for Minecraft PE - The Best Maps for Minecraft Pocket Edition (MCPE) : 8535\n",
            "LUCKY BLOCK MOD ™ for Minecraft PC Edition - The Best Pocket Wiki & Mods Installer Tools : 4693\n",
            "GUNS MODS for Minecraft PC Edition - Mods Tools : 1497\n",
            "Guides for Pokémon GO - Pokemon GO News and Cheats : 826\n",
            "WWDC : 762\n",
            "Horror Maps for Minecraft PE - Download The Scariest Maps for Minecraft Pocket Edition (MCPE) Free : 718\n",
            "VPN Express : 14\n",
            "Real Bike Traffic Rider Virtual Reality Glasses : 8\n",
            "教えて!goo : 0\n",
            "Jishokun-Japanese English Dictionary & Translator : 0\n"
          ],
          "name": "stdout"
        }
      ]
    },
    {
      "cell_type": "markdown",
      "metadata": {
        "id": "zN2ASXtfJgzx",
        "colab_type": "text"
      },
      "source": [
        "Other genres that seem popular include weather, book, food and drink, or finance. The book genre seem to overlap a bit with the app idea we described above, but the other genres don't seem too interesting to us:\n",
        "\n",
        "Weather apps — people generally don't spend too much time in-app, and the chances of making profit from in-app adds are low. Also, getting reliable live weather data may require us to connect our apps to non-free APIs.\n",
        "\n",
        "Food and drink — examples here include Starbucks, Dunkin' Donuts, McDonald's, etc. So making a popular food and drink app requires actual cooking and a delivery service, which is outside the scope of our company.\n",
        "\n",
        "Finance apps — these apps involve banking, paying bills, money transfer, etc. Building a finance app requires domain knowledge, and we don't want to hire a finance expert just to build an app.\n",
        "\n",
        "Now let's analyze the Google Play market.\n",
        "\n",
        "# Most Popular Apps by Genre on Google Play\n",
        "For the Google Play market, we actually have data about the number of installs, so we should be able to get a clearer picture about genre popularity. However, the install numbers don't seem precise enough — we can see that most values are open-ended (100+, 1,000+, 5,000+, etc.):"
      ]
    },
    {
      "cell_type": "code",
      "metadata": {
        "id": "ecvJ-ILWJgzx",
        "colab_type": "code",
        "colab": {},
        "outputId": "0535bd58-8337-4a84-cb46-eb6665026a0b"
      },
      "source": [
        "display_table(android_free, 5)"
      ],
      "execution_count": null,
      "outputs": [
        {
          "output_type": "stream",
          "text": [
            "1,000,000+ : 15.726534296028879\n",
            "100,000+ : 11.552346570397113\n",
            "10,000,000+ : 10.548285198555957\n",
            "10,000+ : 10.198555956678701\n",
            "1,000+ : 8.393501805054152\n",
            "100+ : 6.915613718411552\n",
            "5,000,000+ : 6.825361010830325\n",
            "500,000+ : 5.561823104693141\n",
            "50,000+ : 4.7721119133574\n",
            "5,000+ : 4.512635379061372\n",
            "10+ : 3.5424187725631766\n",
            "500+ : 3.2490974729241873\n",
            "50,000,000+ : 2.3014440433213\n",
            "100,000,000+ : 2.1322202166064983\n",
            "50+ : 1.917870036101083\n",
            "5+ : 0.78971119133574\n",
            "1+ : 0.5076714801444043\n",
            "500,000,000+ : 0.2707581227436823\n",
            "1,000,000,000+ : 0.22563176895306858\n",
            "0+ : 0.04512635379061372\n",
            "0 : 0.01128158844765343\n"
          ],
          "name": "stdout"
        }
      ]
    },
    {
      "cell_type": "markdown",
      "metadata": {
        "id": "7ql2g8oHJgz1",
        "colab_type": "text"
      },
      "source": [
        "One problem with this data is that is not precise. For instance, we don't know whether an app with 100,000+ installs has 100,000 installs, 200,000, or 350,000. However, we don't need very precise data for our purposes — we only want to get an idea which app genres attract the most users, and we don't need perfect precision with respect to the number of users.\n",
        "\n",
        "We're going to leave the numbers as they are, which means that we'll consider that an app with 100,000+ installs has 100,000 installs, and an app with 1,000,000+ installs has 1,000,000 installs, and so on.\n",
        "\n",
        "To perform computations, however, we'll need to convert each install number to float — this means that we need to remove the commas and the plus characters, otherwise the conversion will fail and raise an error. We'll do this directly in the loop below, where we also compute the average number of installs for each genre (category)."
      ]
    },
    {
      "cell_type": "code",
      "metadata": {
        "scrolled": true,
        "id": "3IniYl6eJgz2",
        "colab_type": "code",
        "colab": {},
        "outputId": "1f98d313-bab4-463d-c992-0c347bcaa439"
      },
      "source": [
        "android_category = freq_table(android_free,1)\n",
        "\n",
        "for category in android_category:\n",
        "    total = 0\n",
        "    len_category = 0 \n",
        "   \n",
        "    for app in android_free:\n",
        "        category_app = app[1]\n",
        "        if category_app == category:\n",
        "            installs = app[5]\n",
        "            installs = installs.replace('+', ' ')\n",
        "            installs = installs.replace(',', '')\n",
        "            total += float(installs)\n",
        "            len_category += 1\n",
        "\n",
        "    avg_installs = total / len_category\n",
        "    print(category, ':', avg_installs)"
      ],
      "execution_count": null,
      "outputs": [
        {
          "output_type": "stream",
          "text": [
            "FAMILY : 3695641.8198090694\n",
            "MEDICAL : 120550.61980830671\n",
            "SPORTS : 3638640.1428571427\n",
            "TOOLS : 10801391.298666667\n",
            "COMMUNICATION : 38456119.167247385\n",
            "BEAUTY : 513151.88679245283\n",
            "EVENTS : 253542.22222222222\n",
            "BUSINESS : 1712290.1474201474\n",
            "EDUCATION : 1833495.145631068\n",
            "LIFESTYLE : 1437816.2687861272\n",
            "SOCIAL : 23253652.127118643\n",
            "PHOTOGRAPHY : 17840110.40229885\n",
            "BOOKS_AND_REFERENCE : 8767811.894736841\n",
            "WEATHER : 5074486.197183099\n",
            "COMICS : 817657.2727272727\n",
            "DATING : 854028.8303030303\n",
            "PARENTING : 542603.6206896552\n",
            "FINANCE : 1387692.475609756\n",
            "HEALTH_AND_FITNESS : 4188821.9853479853\n",
            "ART_AND_DESIGN : 1986335.0877192982\n",
            "FOOD_AND_DRINK : 1924897.7363636363\n",
            "GAME : 15588015.603248259\n",
            "HOUSE_AND_HOME : 1331540.5616438356\n",
            "ENTERTAINMENT : 11640705.88235294\n",
            "VIDEO_PLAYERS : 24727872.452830188\n",
            "TRAVEL_AND_LOCAL : 13984077.710144928\n",
            "PRODUCTIVITY : 16787331.344927534\n",
            "AUTO_AND_VEHICLES : 647317.8170731707\n",
            "SHOPPING : 7036877.311557789\n",
            "LIBRARIES_AND_DEMO : 638503.734939759\n",
            "PERSONALIZATION : 5201482.6122448975\n",
            "NEWS_AND_MAGAZINES : 9549178.467741935\n",
            "MAPS_AND_NAVIGATION : 4056941.7741935486\n"
          ],
          "name": "stdout"
        }
      ]
    },
    {
      "cell_type": "markdown",
      "metadata": {
        "id": "MSqe5BJkJgz7",
        "colab_type": "text"
      },
      "source": [
        "We need to sort the genres by the highest average number of installs to better visualize the data. To do this we will make a dictionary with the Categories as the keys and the number of average installs as the values. Then we will use the sort function with a for loop to sort by highest to lowest number of installs by genre. "
      ]
    },
    {
      "cell_type": "code",
      "metadata": {
        "id": "8gA_7T3YJgz8",
        "colab_type": "code",
        "colab": {},
        "outputId": "74f88284-aa44-4073-e6e9-0da442438f82"
      },
      "source": [
        "android_installs = {'ENTERTAINMENT' : 11640705.88235294,\n",
        "'BEAUTY' : 513151.88679245283,\n",
        "'SPORTS' : 3638640.1428571427,\n",
        "'WEATHER' : 5074486.197183099,\n",
        "'AUTO_AND_VEHICLES' : 647317.8170731707,\n",
        "'HEALTH_AND_FITNESS' : 4188821.9853479853,\n",
        "'HOUSE_AND_HOME' : 1331540.5616438356,\n",
        "'LIFESTYLE' : 1437816.2687861272,\n",
        "'GAME' : 15588015.603248259,\n",
        "'MAPS_AND_NAVIGATION' : 4056941.7741935486,\n",
        "'SOCIAL' : 23253652.127118643,\n",
        "'NEWS_AND_MAGAZINES' : 9549178.467741935,\n",
        "'SHOPPING' : 7036877.311557789,\n",
        "'EVENTS' : 253542.22222222222,\n",
        "'PHOTOGRAPHY' : 17840110.40229885,\n",
        "'FOOD_AND_DRINK' : 1924897.7363636363,\n",
        "'LIBRARIES_AND_DEMO' : 638503.734939759,\n",
        "'ART_AND_DESIGN' : 1986335.0877192982,\n",
        "'EDUCATION' : 1833495.145631068,\n",
        "'BOOKS_AND_REFERENCE' : 8767811.894736841,\n",
        "'COMICS' : 817657.2727272727,\n",
        "'COMMUNICATION' : 38456119.167247385,\n",
        "'TOOLS' : 10801391.298666667,\n",
        "'MEDICAL' : 120550.61980830671,\n",
        "'FINANCE' : 1387692.475609756,\n",
        "'DATING' : 854028.8303030303,\n",
        "'PARENTING' : 542603.6206896552,\n",
        "'TRAVEL_AND_LOCAL' : 13984077.710144928,\n",
        "'BUSINESS' : 1712290.1474201474,\n",
        "'FAMILY' : 3695641.8198090694,\n",
        "'PERSONALIZATION' : 5201482.6122448975,\n",
        "'VIDEO_PLAYERS' : 24727872.452830188,\n",
        "'PRODUCTIVITY' : 16787331.344927534}\n",
        "\n",
        "sorted_android_installs = sorted(android_installs, key=android_installs.get, reverse=True)\n",
        "for r in sorted_android_installs:\n",
        "    print(r, android_installs[r])\n",
        "    \n"
      ],
      "execution_count": null,
      "outputs": [
        {
          "output_type": "stream",
          "text": [
            "COMMUNICATION 38456119.167247385\n",
            "VIDEO_PLAYERS 24727872.452830188\n",
            "SOCIAL 23253652.127118643\n",
            "PHOTOGRAPHY 17840110.40229885\n",
            "PRODUCTIVITY 16787331.344927534\n",
            "GAME 15588015.603248259\n",
            "TRAVEL_AND_LOCAL 13984077.710144928\n",
            "ENTERTAINMENT 11640705.88235294\n",
            "TOOLS 10801391.298666667\n",
            "NEWS_AND_MAGAZINES 9549178.467741935\n",
            "BOOKS_AND_REFERENCE 8767811.894736841\n",
            "SHOPPING 7036877.311557789\n",
            "PERSONALIZATION 5201482.6122448975\n",
            "WEATHER 5074486.197183099\n",
            "HEALTH_AND_FITNESS 4188821.9853479853\n",
            "MAPS_AND_NAVIGATION 4056941.7741935486\n",
            "FAMILY 3695641.8198090694\n",
            "SPORTS 3638640.1428571427\n",
            "ART_AND_DESIGN 1986335.0877192982\n",
            "FOOD_AND_DRINK 1924897.7363636363\n",
            "EDUCATION 1833495.145631068\n",
            "BUSINESS 1712290.1474201474\n",
            "LIFESTYLE 1437816.2687861272\n",
            "FINANCE 1387692.475609756\n",
            "HOUSE_AND_HOME 1331540.5616438356\n",
            "DATING 854028.8303030303\n",
            "COMICS 817657.2727272727\n",
            "AUTO_AND_VEHICLES 647317.8170731707\n",
            "LIBRARIES_AND_DEMO 638503.734939759\n",
            "PARENTING 542603.6206896552\n",
            "BEAUTY 513151.88679245283\n",
            "EVENTS 253542.22222222222\n",
            "MEDICAL 120550.61980830671\n"
          ],
          "name": "stdout"
        }
      ]
    },
    {
      "cell_type": "markdown",
      "metadata": {
        "id": "0AS7lh0dJg0C",
        "colab_type": "text"
      },
      "source": [
        "On average, communication apps have the most installs: 38,456,119. This number is heavily skewed by a few apps that have over one billion installs (WhatsApp, Facebook Messenger, Skype, Google Chrome, Gmail, and Hangouts), and a few others with over 100 and 500 million installs:"
      ]
    },
    {
      "cell_type": "code",
      "metadata": {
        "scrolled": false,
        "id": "WOUQl_s1Jg0D",
        "colab_type": "code",
        "colab": {},
        "outputId": "0597ffce-1384-437f-e2d8-b97526a170ef"
      },
      "source": [
        "for app in android_free:\n",
        "    if app[1] == 'COMMUNICATION' and (app[5] == '1,000,000,000+'\n",
        "                                      or app[5] == '500,000,000+'\n",
        "                                      or app[5] == '100,000,000+'):\n",
        "        print(app[0], ':', app[5])"
      ],
      "execution_count": null,
      "outputs": [
        {
          "output_type": "stream",
          "text": [
            "WhatsApp Messenger : 1,000,000,000+\n",
            "imo beta free calls and text : 100,000,000+\n",
            "Android Messages : 100,000,000+\n",
            "Google Duo - High Quality Video Calls : 500,000,000+\n",
            "Messenger – Text and Video Chat for Free : 1,000,000,000+\n",
            "imo free video calls and chat : 500,000,000+\n",
            "Skype - free IM & video calls : 1,000,000,000+\n",
            "Who : 100,000,000+\n",
            "GO SMS Pro - Messenger, Free Themes, Emoji : 100,000,000+\n",
            "LINE: Free Calls & Messages : 500,000,000+\n",
            "Google Chrome: Fast & Secure : 1,000,000,000+\n",
            "Firefox Browser fast & private : 100,000,000+\n",
            "UC Browser - Fast Download Private & Secure : 500,000,000+\n",
            "Gmail : 1,000,000,000+\n",
            "Hangouts : 1,000,000,000+\n",
            "Messenger Lite: Free Calls & Messages : 100,000,000+\n",
            "Kik : 100,000,000+\n",
            "KakaoTalk: Free Calls & Text : 100,000,000+\n",
            "Opera Mini - fast web browser : 100,000,000+\n",
            "Opera Browser: Fast and Secure : 100,000,000+\n",
            "Telegram : 100,000,000+\n",
            "Truecaller: Caller ID, SMS spam blocking & Dialer : 100,000,000+\n",
            "UC Browser Mini -Tiny Fast Private & Secure : 100,000,000+\n",
            "Viber Messenger : 500,000,000+\n",
            "WeChat : 100,000,000+\n",
            "Yahoo Mail – Stay Organized : 100,000,000+\n",
            "BBM - Free Calls & Messages : 100,000,000+\n"
          ],
          "name": "stdout"
        }
      ]
    },
    {
      "cell_type": "markdown",
      "metadata": {
        "id": "juojFQohJg0I",
        "colab_type": "text"
      },
      "source": [
        "If we removed all the communication apps that have over 100 million installs, the average would be reduced roughly ten times:"
      ]
    },
    {
      "cell_type": "code",
      "metadata": {
        "id": "LTT5F9cYJg0J",
        "colab_type": "code",
        "colab": {},
        "outputId": "99b06d3e-a009-4989-9574-ba8f7d19f405"
      },
      "source": [
        "under_100_m = []\n",
        "\n",
        "for app in android_free:\n",
        "    n_installs = app[5]\n",
        "    n_installs = n_installs.replace(',', '')\n",
        "    n_installs = n_installs.replace('+', '')\n",
        "    if (app[1] == 'COMMUNICATION') and (float(n_installs) < 100000000):\n",
        "        under_100_m.append(float(n_installs))\n",
        "        \n",
        "sum(under_100_m) / len(under_100_m)"
      ],
      "execution_count": null,
      "outputs": [
        {
          "output_type": "execute_result",
          "data": {
            "text/plain": [
              "3603485.3884615386"
            ]
          },
          "metadata": {
            "tags": []
          },
          "execution_count": 31
        }
      ]
    },
    {
      "cell_type": "markdown",
      "metadata": {
        "id": "Ltj3vZPRJg0M",
        "colab_type": "text"
      },
      "source": [
        "We see the same pattern for the video players category, which is the runner-up with 24,727,872 installs. The market is dominated by apps like Youtube, Google Play Movies & TV, or MX Player. The pattern is repeated for social apps (where we have giants like Facebook, Instagram, Google+, etc.), photography apps (Google Photos and other popular photo editors), or productivity apps (Microsoft Word, Dropbox, Google Calendar, Evernote, etc.).\n",
        "\n",
        "Again, the main concern is that these app genres might seem more popular than they really are. Moreover, these niches seem to be dominated by a few giants who are hard to compete against.\n",
        "\n",
        "The game genre seems pretty popular, but previously we found out this part of the market seems a bit saturated, so we'd like to come up with a different app recommendation if possible.\n",
        "\n",
        "The books and reference genre looks fairly popular as well, with an average number of installs of 8,767,811. It's interesting to explore this in more depth, since we found this genre has some potential to work well on the App Store, and our aim is to recommend an app genre that shows potential for being profitable on both the App Store and Google Play.\n",
        "\n",
        "Let's take a look at some of the apps from this genre and their number of installs:"
      ]
    },
    {
      "cell_type": "code",
      "metadata": {
        "id": "S1zlPtVMJg0O",
        "colab_type": "code",
        "colab": {},
        "outputId": "b9eb9a42-6428-44c6-e105-128a7893b3b0"
      },
      "source": [
        "for app in android_free:\n",
        "    if app[1] == 'BOOKS_AND_REFERENCE':\n",
        "        print(app[0], ':', app[5])"
      ],
      "execution_count": null,
      "outputs": [
        {
          "output_type": "stream",
          "text": [
            "E-Book Read - Read Book for free : 50,000+\n",
            "Download free book with green book : 100,000+\n",
            "Wikipedia : 10,000,000+\n",
            "Cool Reader : 10,000,000+\n",
            "Free Panda Radio Music : 100,000+\n",
            "Book store : 1,000,000+\n",
            "FBReader: Favorite Book Reader : 10,000,000+\n",
            "English Grammar Complete Handbook : 500,000+\n",
            "Free Books - Spirit Fanfiction and Stories : 1,000,000+\n",
            "Google Play Books : 1,000,000,000+\n",
            "AlReader -any text book reader : 5,000,000+\n",
            "Offline English Dictionary : 100,000+\n",
            "Offline: English to Tagalog Dictionary : 500,000+\n",
            "FamilySearch Tree : 1,000,000+\n",
            "Cloud of Books : 1,000,000+\n",
            "Recipes of Prophetic Medicine for free : 500,000+\n",
            "ReadEra – free ebook reader : 1,000,000+\n",
            "Anonymous caller detection : 10,000+\n",
            "Ebook Reader : 5,000,000+\n",
            "Litnet - E-books : 100,000+\n",
            "Read books online : 5,000,000+\n",
            "English to Urdu Dictionary : 500,000+\n",
            "eBoox: book reader fb2 epub zip : 1,000,000+\n",
            "English Persian Dictionary : 500,000+\n",
            "Flybook : 500,000+\n",
            "All Maths Formulas : 1,000,000+\n",
            "Ancestry : 5,000,000+\n",
            "HTC Help : 10,000,000+\n",
            "English translation from Bengali : 100,000+\n",
            "Pdf Book Download - Read Pdf Book : 100,000+\n",
            "Free Book Reader : 100,000+\n",
            "eBoox new: Reader for fb2 epub zip books : 50,000+\n",
            "Only 30 days in English, the guideline is guaranteed : 500,000+\n",
            "Moon+ Reader : 10,000,000+\n",
            "SH-02J Owner's Manual (Android 8.0) : 50,000+\n",
            "English-Myanmar Dictionary : 1,000,000+\n",
            "Golden Dictionary (EN-AR) : 1,000,000+\n",
            "All Language Translator Free : 1,000,000+\n",
            "Azpen eReader : 500,000+\n",
            "URBANO V 02 instruction manual : 100,000+\n",
            "Bible : 100,000,000+\n",
            "C Programs and Reference : 50,000+\n",
            "C Offline Tutorial : 1,000+\n",
            "C Programs Handbook : 50,000+\n",
            "Amazon Kindle : 100,000,000+\n",
            "Aab e Hayat Full Novel : 100,000+\n",
            "Aldiko Book Reader : 10,000,000+\n",
            "Google I/O 2018 : 500,000+\n",
            "R Language Reference Guide : 10,000+\n",
            "Learn R Programming Full : 5,000+\n",
            "R Programing Offline Tutorial : 1,000+\n",
            "Guide for R Programming : 5+\n",
            "Learn R Programming : 10+\n",
            "R Quick Reference Big Data : 1,000+\n",
            "V Made : 100,000+\n",
            "Wattpad 📖 Free Books : 100,000,000+\n",
            "Dictionary - WordWeb : 5,000,000+\n",
            "Guide (for X-MEN) : 100,000+\n",
            "AC Air condition Troubleshoot,Repair,Maintenance : 5,000+\n",
            "AE Bulletins : 1,000+\n",
            "Ae Allah na Dai (Rasa) : 10,000+\n",
            "50000 Free eBooks & Free AudioBooks : 5,000,000+\n",
            "Ag PhD Field Guide : 10,000+\n",
            "Ag PhD Deficiencies : 10,000+\n",
            "Ag PhD Planting Population Calculator : 1,000+\n",
            "Ag PhD Soybean Diseases : 1,000+\n",
            "Fertilizer Removal By Crop : 50,000+\n",
            "A-J Media Vault : 50+\n",
            "Al-Quran (Free) : 10,000,000+\n",
            "Al Quran (Tafsir & by Word) : 500,000+\n",
            "Al Quran Indonesia : 10,000,000+\n",
            "Al'Quran Bahasa Indonesia : 10,000,000+\n",
            "Al Quran Al karim : 1,000,000+\n",
            "Al-Muhaffiz : 50,000+\n",
            "Al Quran : EAlim - Translations & MP3 Offline : 5,000,000+\n",
            "Al-Quran 30 Juz free copies : 500,000+\n",
            "Koran Read &MP3 30 Juz Offline : 1,000,000+\n",
            "Hafizi Quran 15 lines per page : 1,000,000+\n",
            "Quran for Android : 10,000,000+\n",
            "Surah Al-Waqiah : 100,000+\n",
            "Hisnul Al Muslim - Hisn Invocations & Adhkaar : 100,000+\n",
            "Satellite AR : 1,000,000+\n",
            "Audiobooks from Audible : 100,000,000+\n",
            "Kinot & Eichah for Tisha B'Av : 10,000+\n",
            "AW Tozer Devotionals - Daily : 5,000+\n",
            "Tozer Devotional -Series 1 : 1,000+\n",
            "The Pursuit of God : 1,000+\n",
            "AY Sing : 5,000+\n",
            "Ay Hasnain k Nana Milad Naat : 10,000+\n",
            "Ay Mohabbat Teri Khatir Novel : 10,000+\n",
            "Arizona Statutes, ARS (AZ Law) : 1,000+\n",
            "Oxford A-Z of English Usage : 1,000,000+\n",
            "BD Fishpedia : 1,000+\n",
            "BD All Sim Offer : 10,000+\n",
            "Youboox - Livres, BD et magazines : 500,000+\n",
            "B&H Kids AR : 10,000+\n",
            "B y H Niños ES : 5,000+\n",
            "Dictionary.com: Find Definitions for English Words : 10,000,000+\n",
            "English Dictionary - Offline : 10,000,000+\n",
            "Bible KJV : 5,000,000+\n",
            "Borneo Bible, BM Bible : 10,000+\n",
            "MOD Black for BM : 100+\n",
            "BM Box : 1,000+\n",
            "Anime Mod for BM : 100+\n",
            "NOOK: Read eBooks & Magazines : 10,000,000+\n",
            "NOOK Audiobooks : 500,000+\n",
            "NOOK App for NOOK Devices : 500,000+\n",
            "Browsery by Barnes & Noble : 5,000+\n",
            "bp e-store : 1,000+\n",
            "Brilliant Quotes: Life, Love, Family & Motivation : 1,000,000+\n",
            "BR Ambedkar Biography & Quotes : 10,000+\n",
            "BU Alsace : 100+\n",
            "Catholic La Bu Zo Kam : 500+\n",
            "Khrifa Hla Bu (Solfa) : 10+\n",
            "Kristian Hla Bu : 10,000+\n",
            "SA HLA BU : 1,000+\n",
            "Learn SAP BW : 500+\n",
            "Learn SAP BW on HANA : 500+\n",
            "CA Laws 2018 (California Laws and Codes) : 5,000+\n",
            "Bootable Methods(USB-CD-DVD) : 10,000+\n",
            "cloudLibrary : 100,000+\n",
            "SDA Collegiate Quarterly : 500+\n",
            "Sabbath School : 100,000+\n",
            "Cypress College Library : 100+\n",
            "Stats Royale for Clash Royale : 1,000,000+\n",
            "GATE 21 years CS Papers(2011-2018 Solved) : 50+\n",
            "Learn CT Scan Of Head : 5,000+\n",
            "Easy Cv maker 2018 : 10,000+\n",
            "How to Write CV : 100,000+\n",
            "CW Nuclear : 1,000+\n",
            "CY Spray nozzle : 10+\n",
            "BibleRead En Cy Zh Yue : 5+\n",
            "CZ-Help : 5+\n",
            "Modlitební knížka CZ : 500+\n",
            "Guide for DB Xenoverse : 10,000+\n",
            "Guide for DB Xenoverse 2 : 10,000+\n",
            "Guide for IMS DB : 10+\n",
            "DC HSEMA : 5,000+\n",
            "DC Public Library : 1,000+\n",
            "Painting Lulu DC Super Friends : 1,000+\n",
            "Dictionary : 10,000,000+\n",
            "Fix Error Google Playstore : 1,000+\n",
            "D. H. Lawrence Poems FREE : 1,000+\n",
            "Bilingual Dictionary Audio App : 5,000+\n",
            "DM Screen : 10,000+\n",
            "wikiHow: how to do anything : 1,000,000+\n",
            "Dr. Doug's Tips : 1,000+\n",
            "Bible du Semeur-BDS (French) : 50,000+\n",
            "La citadelle du musulman : 50,000+\n",
            "DV 2019 Entry Guide : 10,000+\n",
            "DV 2019 - EDV Photo & Form : 50,000+\n",
            "DV 2018 Winners Guide : 1,000+\n",
            "EB Annual Meetings : 1,000+\n",
            "EC - AP & Telangana : 5,000+\n",
            "TN Patta Citta & EC : 10,000+\n",
            "AP Stamps and Registration : 10,000+\n",
            "CompactiMa EC pH Calibration : 100+\n",
            "EGW Writings 2 : 100,000+\n",
            "EGW Writings : 1,000,000+\n",
            "Bible with EGW Comments : 100,000+\n",
            "My Little Pony AR Guide : 1,000,000+\n",
            "SDA Sabbath School Quarterly : 500,000+\n",
            "Duaa Ek Ibaadat : 5,000+\n",
            "Spanish English Translator : 10,000,000+\n",
            "Dictionary - Merriam-Webster : 10,000,000+\n",
            "JW Library : 10,000,000+\n",
            "Oxford Dictionary of English : Free : 10,000,000+\n",
            "English Hindi Dictionary : 10,000,000+\n",
            "English to Hindi Dictionary : 5,000,000+\n",
            "EP Research Service : 1,000+\n",
            "Hymnes et Louanges : 100,000+\n",
            "EU Charter : 1,000+\n",
            "EU Data Protection : 1,000+\n",
            "EU IP Codes : 100+\n",
            "EW PDF : 5+\n",
            "BakaReader EX : 100,000+\n",
            "EZ Quran : 50,000+\n",
            "FA Part 1 & 2 Past Papers Solved Free – Offline : 5,000+\n",
            "La Fe de Jesus : 1,000+\n",
            "La Fe de Jesús : 500+\n",
            "Le Fe de Jesus : 500+\n",
            "Florida - Pocket Brainbook : 1,000+\n",
            "Florida Statutes (FL Code) : 1,000+\n",
            "English To Shona Dictionary : 10,000+\n",
            "Greek Bible FP (Audio) : 1,000+\n",
            "Golden Dictionary (FR-AR) : 500,000+\n",
            "Fanfic-FR : 5,000+\n",
            "Bulgarian French Dictionary Fr : 10,000+\n",
            "Chemin (fr) : 1,000+\n",
            "The SCP Foundation DB fr nn5n : 1,000+\n"
          ],
          "name": "stdout"
        }
      ]
    },
    {
      "cell_type": "markdown",
      "metadata": {
        "id": "-8emSdIrJg0Q",
        "colab_type": "text"
      },
      "source": [
        "The book and reference genre includes a variety of apps: software for processing and reading ebooks, various collections of libraries, dictionaries, tutorials on programming or languages, etc. It seems there's still a small number of extremely popular apps that skew the average:"
      ]
    },
    {
      "cell_type": "code",
      "metadata": {
        "id": "lWpxUZzZJg0R",
        "colab_type": "code",
        "colab": {},
        "outputId": "3f371e3f-1d7d-43e2-805e-3b52bc0b71e0"
      },
      "source": [
        "for app in android_free:\n",
        "    if app[1] == 'BOOKS_AND_REFERENCE' and (app[5] == '1,000,000,000+'\n",
        "                                            or app[5] == '500,000,000+'\n",
        "                                            or app[5] == '100,000,000+'):\n",
        "        print(app[0], ':', app[5])"
      ],
      "execution_count": null,
      "outputs": [
        {
          "output_type": "stream",
          "text": [
            "Google Play Books : 1,000,000,000+\n",
            "Bible : 100,000,000+\n",
            "Amazon Kindle : 100,000,000+\n",
            "Wattpad 📖 Free Books : 100,000,000+\n",
            "Audiobooks from Audible : 100,000,000+\n"
          ],
          "name": "stdout"
        }
      ]
    },
    {
      "cell_type": "markdown",
      "metadata": {
        "id": "inj_6oooJg0X",
        "colab_type": "text"
      },
      "source": [
        "However, it looks like there are only a few very popular apps, so this market still shows potential. Let's try to get some app ideas based on the kind of apps that are somewhere in the middle in terms of popularity (between 1,000,000 and 100,000,000 downloads):"
      ]
    },
    {
      "cell_type": "code",
      "metadata": {
        "id": "m_MiLJrnJg0Z",
        "colab_type": "code",
        "colab": {},
        "outputId": "dc623098-c7d2-4a48-f287-419e0280e1ed"
      },
      "source": [
        "for app in android_free:\n",
        "    if app[1] == 'BOOKS_AND_REFERENCE' and (app[5] == '1,000,000+'\n",
        "                                            or app[5] == '5,000,000+'\n",
        "                                            or app[5] == '10,000,000+'\n",
        "                                            or app[5] == '50,000,000+'):\n",
        "        print(app[0], ':', app[5])"
      ],
      "execution_count": null,
      "outputs": [
        {
          "output_type": "stream",
          "text": [
            "Wikipedia : 10,000,000+\n",
            "Cool Reader : 10,000,000+\n",
            "Book store : 1,000,000+\n",
            "FBReader: Favorite Book Reader : 10,000,000+\n",
            "Free Books - Spirit Fanfiction and Stories : 1,000,000+\n",
            "AlReader -any text book reader : 5,000,000+\n",
            "FamilySearch Tree : 1,000,000+\n",
            "Cloud of Books : 1,000,000+\n",
            "ReadEra – free ebook reader : 1,000,000+\n",
            "Ebook Reader : 5,000,000+\n",
            "Read books online : 5,000,000+\n",
            "eBoox: book reader fb2 epub zip : 1,000,000+\n",
            "All Maths Formulas : 1,000,000+\n",
            "Ancestry : 5,000,000+\n",
            "HTC Help : 10,000,000+\n",
            "Moon+ Reader : 10,000,000+\n",
            "English-Myanmar Dictionary : 1,000,000+\n",
            "Golden Dictionary (EN-AR) : 1,000,000+\n",
            "All Language Translator Free : 1,000,000+\n",
            "Aldiko Book Reader : 10,000,000+\n",
            "Dictionary - WordWeb : 5,000,000+\n",
            "50000 Free eBooks & Free AudioBooks : 5,000,000+\n",
            "Al-Quran (Free) : 10,000,000+\n",
            "Al Quran Indonesia : 10,000,000+\n",
            "Al'Quran Bahasa Indonesia : 10,000,000+\n",
            "Al Quran Al karim : 1,000,000+\n",
            "Al Quran : EAlim - Translations & MP3 Offline : 5,000,000+\n",
            "Koran Read &MP3 30 Juz Offline : 1,000,000+\n",
            "Hafizi Quran 15 lines per page : 1,000,000+\n",
            "Quran for Android : 10,000,000+\n",
            "Satellite AR : 1,000,000+\n",
            "Oxford A-Z of English Usage : 1,000,000+\n",
            "Dictionary.com: Find Definitions for English Words : 10,000,000+\n",
            "English Dictionary - Offline : 10,000,000+\n",
            "Bible KJV : 5,000,000+\n",
            "NOOK: Read eBooks & Magazines : 10,000,000+\n",
            "Brilliant Quotes: Life, Love, Family & Motivation : 1,000,000+\n",
            "Stats Royale for Clash Royale : 1,000,000+\n",
            "Dictionary : 10,000,000+\n",
            "wikiHow: how to do anything : 1,000,000+\n",
            "EGW Writings : 1,000,000+\n",
            "My Little Pony AR Guide : 1,000,000+\n",
            "Spanish English Translator : 10,000,000+\n",
            "Dictionary - Merriam-Webster : 10,000,000+\n",
            "JW Library : 10,000,000+\n",
            "Oxford Dictionary of English : Free : 10,000,000+\n",
            "English Hindi Dictionary : 10,000,000+\n",
            "English to Hindi Dictionary : 5,000,000+\n"
          ],
          "name": "stdout"
        }
      ]
    },
    {
      "cell_type": "markdown",
      "metadata": {
        "id": "UQ4n3iR7Jg0g",
        "colab_type": "text"
      },
      "source": [
        "This niche seems to be dominated by software for processing and reading ebooks, as well as various collections of libraries and dictionaries, so it's probably not a good idea to build similar apps since there'll be some significant competition.\n",
        "\n",
        "The Books and Reference category looks promising on the Google Play store as well as the App store. We saw a similiar trend of popular apps focusing on one book like the Bible that we saw in the App store. However, we did not find support for our additional material game app. This is probably because the Google Play store defines those apps as games unlike the App store. \n",
        "\n",
        "# Conclusion\n",
        "\n",
        "In this project, we analyzed data about the App Store and Google Play mobile apps with the goal of recommending an app profile that can be profitable for both markets.\n",
        "\n",
        "We conclude that taking a popular book (perhaps a more recent book) and turning it into an app could be profitable for both the Google Play and the App Store markets. The markets are already full of libraries and dictionaries, so we need to add some special features besides the raw version of the book. This might include daily quotes from the book, an audio version of the book, quizzes on the book, a forum where people can discuss the book, etc."
      ]
    },
    {
      "cell_type": "code",
      "metadata": {
        "id": "QjBBxqpIJg0h",
        "colab_type": "code",
        "colab": {}
      },
      "source": [
        ""
      ],
      "execution_count": null,
      "outputs": []
    }
  ]
}